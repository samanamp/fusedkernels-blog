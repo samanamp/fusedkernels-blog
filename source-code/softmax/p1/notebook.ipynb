{
 "cells": [
  {
   "cell_type": "code",
   "execution_count": 1,
   "id": "cf6730a4-c3d0-40bb-9867-83729c2084dd",
   "metadata": {},
   "outputs": [],
   "source": [
    "\n",
    "import math\n",
    "\n",
    "def too_naive_softmax(x):\n",
    "    max_mem = max(x)\n",
    "    result = [math.e**(xi-max_mem) for xi in x]\n",
    "    sum_all = sum(result)\n",
    "    for i in range(len(x)):\n",
    "        result[i] = result[i]/sum_all\n",
    "    return result"
   ]
  },
  {
   "cell_type": "code",
   "execution_count": 2,
   "id": "189ecc68-6c31-478c-be4d-21efb8ed10c9",
   "metadata": {},
   "outputs": [
    {
     "data": {
      "text/plain": [
       "[0.6652409557748218, 0.24472847105479764, 0.09003057317038046]"
      ]
     },
     "execution_count": 2,
     "metadata": {},
     "output_type": "execute_result"
    }
   ],
   "source": [
    "x = [1000, 999, 998]\n",
    "too_naive_softmax(x)"
   ]
  },
  {
   "cell_type": "code",
   "execution_count": 3,
   "id": "8e655973-71d8-44b1-98f3-0e89bcfdfeb1",
   "metadata": {},
   "outputs": [],
   "source": [
    "import torch\n",
    "def naive_softmax(x):\n",
    "    M, N = x.shape\n",
    "    # read MN elements, write M elements\n",
    "    max_mem = torch.max(x, dim=-1).values\n",
    "    # read MN + M elements, write MN elements\n",
    "    z = x - max_mem.unsqueeze(-1).expand(M, N)\n",
    "    # read MN elements, write MN elements\n",
    "    z = torch.exp(z)\n",
    "    # read MN elements, write M elements\n",
    "    row_sum = torch.sum(z,-1).unsqueeze(-1).expand(M, N)\n",
    "    # read MN + M elements, write MN elements\n",
    "    result = z/row_sum\n",
    "    # Total:: Read: 5MN + 2M; Write: 3MN+2M\n",
    "    return result\n",
    "    "
   ]
  },
  {
   "cell_type": "code",
   "execution_count": 4,
   "id": "c4b285a2-c25b-4851-a42b-db57b95ba290",
   "metadata": {},
   "outputs": [
    {
     "data": {
      "text/plain": [
       "tensor([[0.6590, 0.2424, 0.0986],\n",
       "        [0.6652, 0.2447, 0.0900]])"
      ]
     },
     "execution_count": 4,
     "metadata": {},
     "output_type": "execute_result"
    }
   ],
   "source": [
    "\n",
    "x = torch.tensor([[2.0,1.0,0.1],[1000, 999, 998]])\n",
    "naive_softmax(x)"
   ]
  },
  {
   "cell_type": "code",
   "execution_count": 5,
   "id": "5090df19-7e9b-477c-933c-c7375a6fbda7",
   "metadata": {},
   "outputs": [],
   "source": [
    "import triton\n",
    "import triton.language as tl\n",
    "from triton.runtime import driver\n",
    "\n",
    "DEVICE = triton.runtime.driver.active.get_active_torch_device()\n",
    "\n",
    "def is_hip():\n",
    "    return triton.runtime.driver.active.get_current_target().backend == \"hip\"\n",
    "\n",
    "\n",
    "def is_cdna():\n",
    "    return is_hip() and triton.runtime.driver.active.get_current_target().arch in ('gfx940', 'gfx941', 'gfx942',\n",
    "                                                                                   'gfx90a', 'gfx908')\n",
    "\n",
    "\n",
    "@triton.jit\n",
    "def softmax_kernel(output_ptr, input_ptr, input_row_stride, output_row_stride, n_rows, n_cols, BLOCK_SIZE: tl.constexpr):\n",
    "    # tl.device_print(\"BLOCK_SIZE\", BLOCK_SIZE)\n",
    "    pid = tl.program_id(0)\n",
    "    row_start_ptr = input_ptr + pid * input_row_stride\n",
    "    col_offsets = tl.arange(0, BLOCK_SIZE)\n",
    "    input_ptrs = row_start_ptr + col_offsets\n",
    "    # Load the row data into a block. Use a mask for rows shorter than BLOCK_SIZE.\n",
    "    mask = col_offsets < n_cols\n",
    "    row = tl.load(input_ptrs, mask=mask, other=-float('inf'))\n",
    "    row_max = tl.max(row, axis=0)\n",
    "    numerator = tl.exp(row - row_max)\n",
    "    denominator = tl.sum(numerator, axis=0)\n",
    "    output = numerator / denominator\n",
    "    \n",
    "    # Store the result back to global memory.\n",
    "    output_ptrs = output_ptr + pid * output_row_stride + col_offsets\n",
    "    tl.store(output_ptrs, output, mask=mask)"
   ]
  },
  {
   "cell_type": "code",
   "execution_count": 6,
   "id": "b0e7f67e-9e15-48db-b1f6-849934f89aed",
   "metadata": {},
   "outputs": [],
   "source": [
    "def triton_softmax(x: torch.Tensor):\n",
    "    if not x.is_cuda:\n",
    "        x = x.cuda()\n",
    "\n",
    "    n_rows, n_cols = x.shape\n",
    "    output = torch.empty_like(x)\n",
    "    grid = (n_rows,)\n",
    "\n",
    "    softmax_kernel[grid](\n",
    "        output_ptr=output, \n",
    "        input_ptr=x, \n",
    "        input_row_stride=x.stride(0),\n",
    "        output_row_stride=output.stride(0),\n",
    "        n_rows=n_rows,\n",
    "        n_cols=n_cols,\n",
    "        BLOCK_SIZE=triton.next_power_of_2(n_cols)\n",
    "    )\n",
    "    \n",
    "    return output"
   ]
  },
  {
   "cell_type": "code",
   "execution_count": 7,
   "id": "2ac829ad-3cfa-47e5-8928-ce89e68596bc",
   "metadata": {},
   "outputs": [
    {
     "data": {
      "text/plain": [
       "tensor([[0.6590, 0.2424, 0.0986],\n",
       "        [0.6652, 0.2447, 0.0900]], device='cuda:0')"
      ]
     },
     "execution_count": 7,
     "metadata": {},
     "output_type": "execute_result"
    }
   ],
   "source": [
    "x = torch.tensor([[2.0,1.0,0.1],[1000, 999, 998]], device=DEVICE)\n",
    "triton_softmax(x)"
   ]
  },
  {
   "cell_type": "code",
   "execution_count": 8,
   "id": "5dcfb18c-8dd8-4dcf-9a81-b7c9faf7beb2",
   "metadata": {},
   "outputs": [],
   "source": [
    "@triton.jit\n",
    "def softmax_kernel_better(output_ptr, input_ptr, input_row_stride, output_row_stride, n_rows, n_cols, BLOCK_SIZE: tl.constexpr,\n",
    "                   num_stages: tl.constexpr):\n",
    "    # starting row of the program\n",
    "    row_start = tl.program_id(0)\n",
    "    row_step = tl.num_programs(0)\n",
    "    for row_idx in tl.range(row_start, n_rows, row_step, num_stages=num_stages):\n",
    "        # The stride represents how much we need to increase the pointer to advance 1 row\n",
    "        row_start_ptr = input_ptr + row_idx * input_row_stride\n",
    "        # The block size is the next power of two greater than n_cols, so we can fit each\n",
    "        # row in a single block\n",
    "        col_offsets = tl.arange(0, BLOCK_SIZE)\n",
    "        input_ptrs = row_start_ptr + col_offsets\n",
    "        # Load the row into SRAM, using a mask since BLOCK_SIZE may be > than n_cols\n",
    "        mask = col_offsets < n_cols\n",
    "        row = tl.load(input_ptrs, mask=mask, other=-float('inf'))\n",
    "        # Subtract maximum for numerical stability\n",
    "        row_minus_max = row - tl.max(row, axis=0)\n",
    "        # Note that exponentiation in Triton is fast but approximate (i.e., think __expf in CUDA)\n",
    "        numerator = tl.exp(row_minus_max)\n",
    "        denominator = tl.sum(numerator, axis=0)\n",
    "        softmax_output = numerator / denominator\n",
    "        # Write back output to DRAM\n",
    "        output_row_start_ptr = output_ptr + row_idx * output_row_stride\n",
    "        output_ptrs = output_row_start_ptr + col_offsets\n",
    "        tl.store(output_ptrs, softmax_output, mask=mask)"
   ]
  },
  {
   "cell_type": "code",
   "execution_count": 59,
   "id": "d2971303-1244-4911-ba29-3d1a04ab6099",
   "metadata": {},
   "outputs": [],
   "source": [
    "properties = driver.active.utils.get_device_properties(DEVICE.index)\n",
    "NUM_SM = properties[\"multiprocessor_count\"]\n",
    "NUM_REGS = properties[\"max_num_regs\"]\n",
    "SIZE_SMEM = properties[\"max_shared_mem\"]\n",
    "WARP_SIZE = properties[\"warpSize\"]\n",
    "target = triton.runtime.driver.active.get_current_target()\n",
    "kernels = {}\n",
    "\n",
    "\n",
    "def tritorn_softmax_better(x):\n",
    "    n_rows, n_cols = x.shape\n",
    "\n",
    "    # The block size of each loop iteration is the smallest power of two greater than the number of columns in `x`\n",
    "    BLOCK_SIZE = triton.next_power_of_2(n_cols)\n",
    "\n",
    "    # Another trick we can use is to ask the compiler to use more threads per row by\n",
    "    # increasing the number of warps (`num_warps`) over which each row is distributed.\n",
    "    # You will see in the next tutorial how to auto-tune this value in a more natural\n",
    "    # way so you don't have to come up with manual heuristics yourself.\n",
    "    num_warps = 8\n",
    "\n",
    "    # Number of software pipelining stages.\n",
    "    num_stages = 4 if SIZE_SMEM > 200000 else 2\n",
    "    num_stages = 1\n",
    "    # Allocate output\n",
    "    y = torch.empty_like(x)\n",
    "\n",
    "    # pre-compile kernel to get register usage and compute thread occupancy.\n",
    "    kernel = softmax_kernel_better.warmup(y, x, x.stride(0), y.stride(0), n_rows, n_cols, BLOCK_SIZE=BLOCK_SIZE,\n",
    "                                   num_stages=num_stages, num_warps=num_warps, grid=(1, ))\n",
    "    kernel._init_handles()\n",
    "    n_regs = kernel.n_regs\n",
    "    size_smem = kernel.metadata.shared\n",
    "    if is_hip():\n",
    "        # NUM_REGS represents the number of regular purpose registers. On CDNA architectures this is half of all registers available.\n",
    "        # However, this is not always the case. In most cases all registers can be used as regular purpose registers.\n",
    "        # ISA SECTION (3.6.4 for CDNA3)\n",
    "        # VGPRs are allocated out of two pools: regular VGPRs and accumulation VGPRs. Accumulation VGPRs are used\n",
    "        # with matrix VALU instructions, and can also be loaded directly from memory. A wave may have up to 512 total\n",
    "        # VGPRs, 256 of each type. When a wave has fewer than 512 total VGPRs, the number of each type is flexible - it is\n",
    "        # not required to be equal numbers of both types.\n",
    "        NUM_GPRS = NUM_REGS\n",
    "        if is_cdna():\n",
    "            NUM_GPRS = NUM_REGS * 2\n",
    "\n",
    "        # MAX_NUM_THREADS represents maximum number of resident threads per multi-processor.\n",
    "        # When we divide this number with WARP_SIZE we get maximum number of waves that can\n",
    "        # execute on a CU (multi-processor)  in parallel.\n",
    "        MAX_NUM_THREADS = properties[\"max_threads_per_sm\"]\n",
    "        max_num_waves = MAX_NUM_THREADS // WARP_SIZE\n",
    "        occupancy = min(NUM_GPRS // WARP_SIZE // n_regs, max_num_waves) // num_warps\n",
    "    else:\n",
    "        occupancy = NUM_REGS // (n_regs * WARP_SIZE * num_warps)\n",
    "    occupancy = min(occupancy, SIZE_SMEM // size_smem)\n",
    "    num_programs = NUM_SM * occupancy\n",
    "\n",
    "    num_programs = min(num_programs, n_rows)\n",
    "\n",
    "    # Create a number of persistent programs.\n",
    "    kernel[(num_programs, 1, 1)](y, x, x.stride(0), y.stride(0), n_rows, n_cols, BLOCK_SIZE, num_stages)\n",
    "    return y"
   ]
  },
  {
   "cell_type": "code",
   "execution_count": 60,
   "id": "3257b4f5-b8ab-4874-926d-aaa97d5bd546",
   "metadata": {},
   "outputs": [
    {
     "ename": "ZeroDivisionError",
     "evalue": "integer division or modulo by zero",
     "output_type": "error",
     "traceback": [
      "\u001b[31m---------------------------------------------------------------------------\u001b[39m",
      "\u001b[31mZeroDivisionError\u001b[39m                         Traceback (most recent call last)",
      "\u001b[36mCell\u001b[39m\u001b[36m \u001b[39m\u001b[32mIn[60]\u001b[39m\u001b[32m, line 2\u001b[39m\n\u001b[32m      1\u001b[39m x = torch.tensor([[\u001b[32m2.0\u001b[39m,\u001b[32m1.0\u001b[39m,\u001b[32m0.1\u001b[39m],[\u001b[32m1000\u001b[39m, \u001b[32m999\u001b[39m, \u001b[32m998\u001b[39m]], device=DEVICE)\n\u001b[32m----> \u001b[39m\u001b[32m2\u001b[39m \u001b[43mtritorn_softmax_better\u001b[49m\u001b[43m(\u001b[49m\u001b[43mx\u001b[49m\u001b[43m)\u001b[49m\n",
      "\u001b[36mCell\u001b[39m\u001b[36m \u001b[39m\u001b[32mIn[59]\u001b[39m\u001b[32m, line 54\u001b[39m, in \u001b[36mtritorn_softmax_better\u001b[39m\u001b[34m(x)\u001b[39m\n\u001b[32m     52\u001b[39m \u001b[38;5;28;01melse\u001b[39;00m:\n\u001b[32m     53\u001b[39m     occupancy = NUM_REGS // (n_regs * WARP_SIZE * num_warps)\n\u001b[32m---> \u001b[39m\u001b[32m54\u001b[39m occupancy = \u001b[38;5;28mmin\u001b[39m(occupancy, \u001b[43mSIZE_SMEM\u001b[49m\u001b[43m \u001b[49m\u001b[43m/\u001b[49m\u001b[43m/\u001b[49m\u001b[43m \u001b[49m\u001b[43msize_smem\u001b[49m)\n\u001b[32m     55\u001b[39m num_programs = NUM_SM * occupancy\n\u001b[32m     57\u001b[39m num_programs = \u001b[38;5;28mmin\u001b[39m(num_programs, n_rows)\n",
      "\u001b[31mZeroDivisionError\u001b[39m: integer division or modulo by zero"
     ]
    }
   ],
   "source": [
    "x = torch.tensor([[2.0,1.0,0.1],[1000, 999, 998]], device=DEVICE)\n",
    "tritorn_softmax_better(x)"
   ]
  },
  {
   "cell_type": "code",
   "execution_count": 86,
   "id": "c1615a9a-a4dd-4682-9058-abf9894f4e93",
   "metadata": {},
   "outputs": [],
   "source": [
    "@triton.testing.perf_report(\n",
    "    triton.testing.Benchmark(\n",
    "        # X-axis configuration: the independent variable we're testing\n",
    "        x_names=['N'],  # Parameter name that varies across benchmark runs\n",
    "        x_vals=[128*i for i in range(10, 751, 20)],  # Test sizes from 2^8 (256) to 2^27 (134M) elements\n",
    "        # x_log=True,  # Use logarithmic scale for x-axis (better for exponential ranges)\n",
    "\n",
    "        # Line configuration: compare different implementations\n",
    "        line_arg='provider',  # Parameter that distinguishes different implementations\n",
    "        # line_vals=['triton', 'torch', 'naive'],  # Internal identifiers for each implementation\n",
    "        line_vals=['triton', 'torch', 'naive', 'triton_better'],  # Internal identifiers for each implementation\n",
    "        # line_names=['Triton', 'Torch', 'naive'],  # Display names for the legend\n",
    "        line_names=['Triton', 'Torch', 'naive', 'triton_better'],  # Display names for the legend\n",
    "        styles=[('blue', '-'), ('green', '-'), ('red', '-'),  ('black', '-.')],  # (color, line_style) tuples\n",
    "\n",
    "        # Plot configuration\n",
    "        ylabel='GB/s',  # Y-axis label (measuring memory bandwidth)\n",
    "        plot_name='softmax-performance',  # Output filename and plot title\n",
    "        args={'M': 256},  # Additional fixed arguments (empty here since we only vary size/provider)\n",
    "    ))\n",
    "    # basically, the above decorator says that I'm going to have a 2D Diagram\n",
    "    # x values would be 'size' and lines would be triton, torch and cuda.\n",
    "def benchmark(M, N, provider):\n",
    "    \"\"\"\n",
    "    Benchmarks vector addition across three implementations: PyTorch, Triton, and CUDA.\n",
    "\n",
    "    Args:\n",
    "        size: Number of elements in the vectors\n",
    "        provider: Which implementation to benchmark ('torch', 'triton', or 'cuda')\n",
    "\n",
    "    Returns:\n",
    "        Tuple of (median_gbps, min_gbps, max_gbps) representing bandwidth at different quantiles\n",
    "    \"\"\"\n",
    "    # Create random input tensors on the specified device\n",
    "    x = torch.randn(M, N, device=DEVICE, dtype=torch.float32)\n",
    "\n",
    "    for _ in range(5):\n",
    "        if provider == 'torch':\n",
    "            torch.softmax(x, axis=-1)\n",
    "        elif provider == 'triton':\n",
    "            triton_softmax(x)\n",
    "        else:\n",
    "            naive_softmax(x)\n",
    "    torch.cuda.synchronize()\n",
    "    # Quantiles for statistical analysis: [median, 20th percentile, 80th percentile]\n",
    "    # This captures the distribution of timings across multiple runs\n",
    "    quantiles = [0.5, 0.2, 0.8]\n",
    "\n",
    "    # Benchmark each implementation\n",
    "    # do_bench runs the lambda multiple times and returns timing statistics\n",
    "    stream = getattr(torch, DEVICE.type).Stream()\n",
    "    getattr(torch, DEVICE.type).set_stream(stream)\n",
    "    if provider == 'torch':\n",
    "        # Native PyTorch element-wise addition\n",
    "        ms, min_ms, max_ms = triton.testing.do_bench(lambda: torch.softmax(x, axis=-1), quantiles=quantiles)\n",
    "    if provider == 'triton':\n",
    "        # Custom Triton kernel implementation\n",
    "        ms, min_ms, max_ms = triton.testing.do_bench(lambda: triton_softmax(x), quantiles=quantiles)\n",
    "    if provider == 'naive':\n",
    "        # Custom CUDA kernel implementation\n",
    "        ms, min_ms, max_ms = triton.testing.do_bench(lambda: naive_softmax(x), quantiles=quantiles)\n",
    "    if provider == 'triton_better':\n",
    "        # Custom CUDA kernel implementation\n",
    "        ms, min_ms, max_ms = triton.testing.do_bench(lambda: tritorn_softmax_better(x), quantiles=quantiles)\n",
    "\n",
    "    # Calculate memory bandwidth in GB/s\n",
    "    # Formula breakdown:\n",
    "    #   - 3 * x.numel(): total elements accessed (read x, read y, write output)\n",
    "    #   - x.element_size(): bytes per element (4 bytes for float32)\n",
    "    #   - 1e-9: convert bytes to gigabytes\n",
    "    #   - (ms * 1e-3): convert milliseconds to seconds\n",
    "    gbps = lambda ms: 2 * x.numel() * x.element_size() * 1e-9 / (ms * 1e-3)\n",
    "\n",
    "    # Return bandwidth for median, fastest (max_ms → min bandwidth), and slowest (min_ms → max bandwidth)\n",
    "    # Note: max_ms gives min bandwidth and vice versa\n",
    "    return gbps(ms), gbps(max_ms), gbps(min_ms)"
   ]
  },
  {
   "cell_type": "code",
   "execution_count": 87,
   "id": "2a8f5da7-e081-4ddf-babb-babcbb45dac9",
   "metadata": {},
   "outputs": [
    {
     "data": {
      "image/png": "[encoded data removed]",
      "text/plain": [
       "<Figure size 640x480 with 1 Axes>"
      ]
     },
     "metadata": {},
     "output_type": "display_data"
    },
    {
     "name": "stdout",
     "output_type": "stream",
     "text": [
      "softmax-performance:\n",
      "          N      Triton       Torch       naive  triton_better\n",
      "0    1280.0  270.363029  213.890336   72.176210     256.000006\n",
      "1    3840.0  384.000010  295.384619  123.870969     374.063929\n",
      "2    6400.0  376.470582  342.761501  139.938507     355.864455\n",
      "3    8960.0  369.246631  358.400009  182.798858     358.400009\n",
      "4   11520.0  375.206095  363.013276  178.000971     351.755743\n",
      "5   14080.0  367.954264  349.135981  162.745168     361.170354\n",
      "6   16640.0  316.952383  355.995325  158.076299     346.666654\n",
      "7   19200.0  320.000008  357.313161  151.497965     348.991760\n",
      "8   21760.0  328.297959  362.666676  136.426327     350.967747\n",
      "9   24320.0  329.867546  356.418597  125.532703     348.751943\n",
      "10  26880.0  331.851859  366.962470  113.785301     353.684226\n",
      "11  29440.0  335.857405  365.714278  110.787318     359.024396\n",
      "12  32000.0  338.624341  368.975768  108.205207     359.550558\n",
      "13  34560.0   51.454892  370.616634  106.093628     305.840703\n",
      "14  37120.0   54.308703  371.200009  105.349327     309.979117\n",
      "15  39680.0   56.970567  373.926224  104.421049     312.671759\n",
      "16  42240.0   59.534885  377.090256  104.111531     315.223877\n",
      "17  44800.0   62.265462  374.381407  103.527712     317.730504\n",
      "18  47360.0   64.725704  377.370532  103.068551     318.420015\n",
      "19  49920.0   67.154597  376.000953  102.564365     321.077333\n",
      "20  52480.0   69.911432  377.553967  102.556338     321.994055\n",
      "21  55040.0   72.421050  377.268927  102.361321     324.749688\n",
      "22  57600.0   74.733917  372.815539  101.899002     326.316732\n",
      "23  60160.0   76.967857  368.444021  102.098597     326.554429\n",
      "24  62720.0   79.328077  365.148727  101.735608     328.081738\n",
      "25  65280.0   81.651034  365.266655  101.489579     328.027317\n",
      "26  67840.0   47.025133  353.376468  101.517708      43.200302\n",
      "27  70400.0   48.477545  355.976937  101.263093      44.595550\n",
      "28  72960.0   49.802579  351.217740  101.230084      45.898067\n",
      "29  75520.0   51.165314  347.968321  100.760507      47.318760\n",
      "30  78080.0   52.526067  339.063645  100.994765      48.845795\n",
      "31  80640.0   53.823356  331.851849  101.115985      50.181438\n",
      "32  83200.0   55.227350  325.934998  101.096441      51.582404\n",
      "33  85760.0   56.399023  318.810396  100.867233      52.774877\n",
      "34  88320.0   57.646308  311.826558  100.680048      54.085024\n",
      "35  90880.0   58.914955  301.176472  100.727704      55.482295\n",
      "36  93440.0   60.132328  293.591231  100.446119      56.802433\n",
      "37  96000.0   61.404998  288.288285  100.365917      57.991258\n"
     ]
    }
   ],
   "source": [
    "benchmark.run(show_plots=True, print_data=True)"
   ]
  },
  {
   "cell_type": "code",
   "execution_count": null,
   "id": "06334758-b7c2-4f1a-8bcb-5591d5817efa",
   "metadata": {},
   "outputs": [],
   "source": []
  },
  {
   "cell_type": "code",
   "execution_count": null,
   "id": "4c3ee7eb-3edc-4db4-bad4-3d7331f8e24a",
   "metadata": {},
   "outputs": [],
   "source": []
  }
 ],
 "metadata": {
  "kernelspec": {
   "display_name": "Python3 (ipykernel)",
   "language": "python",
   "name": "python3"
  },
  "language_info": {
   "codemirror_mode": {
    "name": "ipython",
    "version": 3
   },
   "file_extension": ".py",
   "mimetype": "text/x-python",
   "name": "python",
   "nbconvert_exporter": "python",
   "pygments_lexer": "ipython3",
   "version": "3.12.11"
  }
 },
 "nbformat": 4,
 "nbformat_minor": 5
}
